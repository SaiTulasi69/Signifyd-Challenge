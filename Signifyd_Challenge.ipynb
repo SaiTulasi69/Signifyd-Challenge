{
  "nbformat": 4,
  "nbformat_minor": 0,
  "metadata": {
    "colab": {
      "name": "Signifyd_Challenge",
      "provenance": [],
      "collapsed_sections": [],
      "authorship_tag": "ABX9TyOaThyq7YanDsr8Fxnb5fZj",
      "include_colab_link": true
    },
    "kernelspec": {
      "name": "python3",
      "display_name": "Python 3"
    },
    "language_info": {
      "name": "python"
    }
  },
  "cells": [
    {
      "cell_type": "markdown",
      "metadata": {
        "id": "view-in-github",
        "colab_type": "text"
      },
      "source": [
        "<a href=\"https://colab.research.google.com/github/SaiTulasi69/Signifyd-Challenge/blob/main/Signifyd_Challenge.ipynb\" target=\"_parent\"><img src=\"https://colab.research.google.com/assets/colab-badge.svg\" alt=\"Open In Colab\"/></a>"
      ]
    },
    {
      "cell_type": "code",
      "source": [
        "# importing pandas library\n",
        "import pandas as pd\n",
        "\n",
        "# loading the dataset with a csv file from github\n",
        "df = pd.read_csv(\"https://raw.githubusercontent.com/SaiTulasi69/Signifyd-Challenge/main/Customer_Account.csv\", header=0)"
      ],
      "metadata": {
        "id": "CF_M1NegQQtn"
      },
      "execution_count": 59,
      "outputs": []
    },
    {
      "cell_type": "code",
      "source": [
        "# a glance at the first 10 elements in the dataframe\n",
        "df.head(10)"
      ],
      "metadata": {
        "id": "bX8DCoFYR9_C",
        "colab": {
          "base_uri": "https://localhost:8080/",
          "height": 300
        },
        "outputId": "487864d6-973d-4af6-b145-f4572a451f04"
      },
      "execution_count": 60,
      "outputs": [
        {
          "output_type": "execute_result",
          "data": {
            "text/plain": [
              "         Date    CustomerAccountID     EventType\n",
              "0  2015-01-01     joe@signifyd.com      PURCHASE\n",
              "1  2015-02-01  fraudster@fraud.com  FRAUD_REPORT\n",
              "2  2015-02-03  fraudster@fraud.com  FRAUD_REPORT\n",
              "3  2015-02-10     joe@signifyd.com      PURCHASE\n",
              "4  2015-02-14  fraudster@fraud.com      PURCHASE\n",
              "5  2015-03-15     joe@signifyd.com      PURCHASE\n",
              "6  2015-05-01     joe@signifyd.com      PURCHASE\n",
              "7  2015-10-01     joe@signifyd.com      PURCHASE"
            ],
            "text/html": [
              "\n",
              "  <div id=\"df-cdcfc689-a153-4ff8-bcf1-87c167ab01f4\">\n",
              "    <div class=\"colab-df-container\">\n",
              "      <div>\n",
              "<style scoped>\n",
              "    .dataframe tbody tr th:only-of-type {\n",
              "        vertical-align: middle;\n",
              "    }\n",
              "\n",
              "    .dataframe tbody tr th {\n",
              "        vertical-align: top;\n",
              "    }\n",
              "\n",
              "    .dataframe thead th {\n",
              "        text-align: right;\n",
              "    }\n",
              "</style>\n",
              "<table border=\"1\" class=\"dataframe\">\n",
              "  <thead>\n",
              "    <tr style=\"text-align: right;\">\n",
              "      <th></th>\n",
              "      <th>Date</th>\n",
              "      <th>CustomerAccountID</th>\n",
              "      <th>EventType</th>\n",
              "    </tr>\n",
              "  </thead>\n",
              "  <tbody>\n",
              "    <tr>\n",
              "      <th>0</th>\n",
              "      <td>2015-01-01</td>\n",
              "      <td>joe@signifyd.com</td>\n",
              "      <td>PURCHASE</td>\n",
              "    </tr>\n",
              "    <tr>\n",
              "      <th>1</th>\n",
              "      <td>2015-02-01</td>\n",
              "      <td>fraudster@fraud.com</td>\n",
              "      <td>FRAUD_REPORT</td>\n",
              "    </tr>\n",
              "    <tr>\n",
              "      <th>2</th>\n",
              "      <td>2015-02-03</td>\n",
              "      <td>fraudster@fraud.com</td>\n",
              "      <td>FRAUD_REPORT</td>\n",
              "    </tr>\n",
              "    <tr>\n",
              "      <th>3</th>\n",
              "      <td>2015-02-10</td>\n",
              "      <td>joe@signifyd.com</td>\n",
              "      <td>PURCHASE</td>\n",
              "    </tr>\n",
              "    <tr>\n",
              "      <th>4</th>\n",
              "      <td>2015-02-14</td>\n",
              "      <td>fraudster@fraud.com</td>\n",
              "      <td>PURCHASE</td>\n",
              "    </tr>\n",
              "    <tr>\n",
              "      <th>5</th>\n",
              "      <td>2015-03-15</td>\n",
              "      <td>joe@signifyd.com</td>\n",
              "      <td>PURCHASE</td>\n",
              "    </tr>\n",
              "    <tr>\n",
              "      <th>6</th>\n",
              "      <td>2015-05-01</td>\n",
              "      <td>joe@signifyd.com</td>\n",
              "      <td>PURCHASE</td>\n",
              "    </tr>\n",
              "    <tr>\n",
              "      <th>7</th>\n",
              "      <td>2015-10-01</td>\n",
              "      <td>joe@signifyd.com</td>\n",
              "      <td>PURCHASE</td>\n",
              "    </tr>\n",
              "  </tbody>\n",
              "</table>\n",
              "</div>\n",
              "      <button class=\"colab-df-convert\" onclick=\"convertToInteractive('df-cdcfc689-a153-4ff8-bcf1-87c167ab01f4')\"\n",
              "              title=\"Convert this dataframe to an interactive table.\"\n",
              "              style=\"display:none;\">\n",
              "        \n",
              "  <svg xmlns=\"http://www.w3.org/2000/svg\" height=\"24px\"viewBox=\"0 0 24 24\"\n",
              "       width=\"24px\">\n",
              "    <path d=\"M0 0h24v24H0V0z\" fill=\"none\"/>\n",
              "    <path d=\"M18.56 5.44l.94 2.06.94-2.06 2.06-.94-2.06-.94-.94-2.06-.94 2.06-2.06.94zm-11 1L8.5 8.5l.94-2.06 2.06-.94-2.06-.94L8.5 2.5l-.94 2.06-2.06.94zm10 10l.94 2.06.94-2.06 2.06-.94-2.06-.94-.94-2.06-.94 2.06-2.06.94z\"/><path d=\"M17.41 7.96l-1.37-1.37c-.4-.4-.92-.59-1.43-.59-.52 0-1.04.2-1.43.59L10.3 9.45l-7.72 7.72c-.78.78-.78 2.05 0 2.83L4 21.41c.39.39.9.59 1.41.59.51 0 1.02-.2 1.41-.59l7.78-7.78 2.81-2.81c.8-.78.8-2.07 0-2.86zM5.41 20L4 18.59l7.72-7.72 1.47 1.35L5.41 20z\"/>\n",
              "  </svg>\n",
              "      </button>\n",
              "      \n",
              "  <style>\n",
              "    .colab-df-container {\n",
              "      display:flex;\n",
              "      flex-wrap:wrap;\n",
              "      gap: 12px;\n",
              "    }\n",
              "\n",
              "    .colab-df-convert {\n",
              "      background-color: #E8F0FE;\n",
              "      border: none;\n",
              "      border-radius: 50%;\n",
              "      cursor: pointer;\n",
              "      display: none;\n",
              "      fill: #1967D2;\n",
              "      height: 32px;\n",
              "      padding: 0 0 0 0;\n",
              "      width: 32px;\n",
              "    }\n",
              "\n",
              "    .colab-df-convert:hover {\n",
              "      background-color: #E2EBFA;\n",
              "      box-shadow: 0px 1px 2px rgba(60, 64, 67, 0.3), 0px 1px 3px 1px rgba(60, 64, 67, 0.15);\n",
              "      fill: #174EA6;\n",
              "    }\n",
              "\n",
              "    [theme=dark] .colab-df-convert {\n",
              "      background-color: #3B4455;\n",
              "      fill: #D2E3FC;\n",
              "    }\n",
              "\n",
              "    [theme=dark] .colab-df-convert:hover {\n",
              "      background-color: #434B5C;\n",
              "      box-shadow: 0px 1px 3px 1px rgba(0, 0, 0, 0.15);\n",
              "      filter: drop-shadow(0px 1px 2px rgba(0, 0, 0, 0.3));\n",
              "      fill: #FFFFFF;\n",
              "    }\n",
              "  </style>\n",
              "\n",
              "      <script>\n",
              "        const buttonEl =\n",
              "          document.querySelector('#df-cdcfc689-a153-4ff8-bcf1-87c167ab01f4 button.colab-df-convert');\n",
              "        buttonEl.style.display =\n",
              "          google.colab.kernel.accessAllowed ? 'block' : 'none';\n",
              "\n",
              "        async function convertToInteractive(key) {\n",
              "          const element = document.querySelector('#df-cdcfc689-a153-4ff8-bcf1-87c167ab01f4');\n",
              "          const dataTable =\n",
              "            await google.colab.kernel.invokeFunction('convertToInteractive',\n",
              "                                                     [key], {});\n",
              "          if (!dataTable) return;\n",
              "\n",
              "          const docLinkHtml = 'Like what you see? Visit the ' +\n",
              "            '<a target=\"_blank\" href=https://colab.research.google.com/notebooks/data_table.ipynb>data table notebook</a>'\n",
              "            + ' to learn more about interactive tables.';\n",
              "          element.innerHTML = '';\n",
              "          dataTable['output_type'] = 'display_data';\n",
              "          await google.colab.output.renderOutput(dataTable, element);\n",
              "          const docLink = document.createElement('div');\n",
              "          docLink.innerHTML = docLinkHtml;\n",
              "          element.appendChild(docLink);\n",
              "        }\n",
              "      </script>\n",
              "    </div>\n",
              "  </div>\n",
              "  "
            ]
          },
          "metadata": {},
          "execution_count": 60
        }
      ]
    },
    {
      "cell_type": "code",
      "source": [
        "# changing the EventType column's datatype to category\n",
        "df[\"EventType\"] = df[\"EventType\"].astype(\"category\")"
      ],
      "metadata": {
        "id": "1-HNiXA6pum0"
      },
      "execution_count": 61,
      "outputs": []
    },
    {
      "cell_type": "code",
      "source": [
        "# checking the non-null values and datatypes of all columns\n",
        "\n",
        "df.info()"
      ],
      "metadata": {
        "id": "wCRvsWN2qLTz",
        "colab": {
          "base_uri": "https://localhost:8080/"
        },
        "outputId": "6dbf6947-1e6b-45d2-a7f4-06028fa29468"
      },
      "execution_count": 62,
      "outputs": [
        {
          "output_type": "stream",
          "name": "stdout",
          "text": [
            "<class 'pandas.core.frame.DataFrame'>\n",
            "RangeIndex: 8 entries, 0 to 7\n",
            "Data columns (total 3 columns):\n",
            " #   Column             Non-Null Count  Dtype   \n",
            "---  ------             --------------  -----   \n",
            " 0   Date               8 non-null      object  \n",
            " 1   CustomerAccountID  8 non-null      object  \n",
            " 2   EventType          8 non-null      category\n",
            "dtypes: category(1), object(2)\n",
            "memory usage: 388.0+ bytes\n"
          ]
        }
      ]
    },
    {
      "cell_type": "code",
      "source": [
        "# importing the datetime module\n",
        "from datetime import timedelta, date, datetime\n",
        "\n",
        "# defining methods to classify transactions based on the user's history\n",
        "class Event:\n",
        "  # defining a constructor\n",
        "    def __init__(self, customerAccount):\n",
        "        self.customerAccountID = customerAccount\n",
        "        self.historyAllTrans = list()\n",
        "        self.historyPurchase = list()\n",
        "        self.eventype = list()\n",
        "        self.countDictionary = {\"PURCHASE\":0, \"FRAUD_REPORT\":0}\n",
        "\n",
        "  # defining a method to determine the status of the transaction\n",
        "    def getStatus(self):\n",
        "        if (len(self.historyAllTrans) == 1) and len(self.historyPurchase) == 1:\n",
        "          print(str(datetime.strptime(self.historyPurchase[-1], \"%Y-%m-%d\").date()) + \",\" + self.customerAccountID + \",NO_HISTORY\")\n",
        "        elif (self.countDictionary[\"FRAUD_REPORT\"] == 0):\n",
        "          unconfirmed = 0\n",
        "          goodhistory = 0\n",
        "          todays_trans = datetime.strptime(self.historyPurchase[-1], \"%Y-%m-%d\")\n",
        "          for i in range(len(self.historyPurchase)-1):\n",
        "            dateInArray = datetime.strptime(self.historyPurchase[i], \"%Y-%m-%d\")\n",
        "            diff = todays_trans - dateInArray\n",
        "            if diff.days > 90:\n",
        "              goodhistory += 1\n",
        "            else:\n",
        "              unconfirmed += 1\n",
        "          if goodhistory > 0:\n",
        "            print(str(datetime.strptime(self.historyPurchase[-1], \"%Y-%m-%d\").date()) + \",\" + self.customerAccountID + \",GOOD_HISTORY:\" + str(goodhistory))\n",
        "          else:\n",
        "            print(str(datetime.strptime(self.historyPurchase[-1], \"%Y-%m-%d\").date()) + \",\" + self.customerAccountID + \",UNCONFIRMED_HISTORY:\" + str(unconfirmed))\n",
        "        elif (self.countDictionary[\"FRAUD_REPORT\"] >= 1 and len(self.eventype) != 0):\n",
        "          print(str(datetime.strptime(self.historyPurchase[-1], \"%Y-%m-%d\").date()) + \",\" + self.customerAccountID + \",FRAUD_HISTORY:\" + str(self.countDictionary[\"FRAUD_REPORT\"]))\n",
        "\n",
        "  # adding the details of a transaction and keeping a track of the count of each transaction type        \n",
        "    def addDetails(self, date, eventype):\n",
        "      self.historyAllTrans.append(date)\n",
        "      if eventype == \"PURCHASE\":\n",
        "        self.historyPurchase.append(date)\n",
        "        self.eventype.append(eventype)\n",
        "      self.countDictionary[eventype] += 1\n",
        "        "
      ],
      "metadata": {
        "id": "lvTNej9RSVzK"
      },
      "execution_count": 63,
      "outputs": []
    },
    {
      "cell_type": "code",
      "source": [
        "# defining a dictionary for all customer details where the user id is the key \n",
        "customer_dictionary = dict()\n",
        "# iterating through all records and adding the customer details in dictionary if it doesn't exist\n",
        "for index, row in df.iterrows():\n",
        "  if row['CustomerAccountID'] not in customer_dictionary:\n",
        "    customer_dictionary[row['CustomerAccountID']] = Event(row['CustomerAccountID'])\n",
        "  customer_dictionary[row['CustomerAccountID']].addDetails(row['Date'],row['EventType'])\n",
        "  customer_dictionary[row['CustomerAccountID']].getStatus()"
      ],
      "metadata": {
        "id": "by1jkIN-SgrP",
        "colab": {
          "base_uri": "https://localhost:8080/"
        },
        "outputId": "5a33f38e-778d-45c8-941a-ce0e845e9171"
      },
      "execution_count": 64,
      "outputs": [
        {
          "output_type": "stream",
          "name": "stdout",
          "text": [
            "2015-01-01,joe@signifyd.com,NO_HISTORY\n",
            "2015-02-10,joe@signifyd.com,UNCONFIRMED_HISTORY:1\n",
            "2015-02-14,fraudster@fraud.com,FRAUD_HISTORY:2\n",
            "2015-03-15,joe@signifyd.com,UNCONFIRMED_HISTORY:2\n",
            "2015-05-01,joe@signifyd.com,GOOD_HISTORY:1\n",
            "2015-10-01,joe@signifyd.com,GOOD_HISTORY:4\n"
          ]
        }
      ]
    },
    {
      "cell_type": "code",
      "source": [
        ""
      ],
      "metadata": {
        "id": "8WDQWWZvcSEv"
      },
      "execution_count": 64,
      "outputs": []
    }
  ]
}